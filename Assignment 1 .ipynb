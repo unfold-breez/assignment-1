{
 "cells": [
  {
   "cell_type": "markdown",
   "id": "62f31a1d-011a-4e70-bb55-6e21f2e1e4d0",
   "metadata": {},
   "source": [
    "# Python Basics Question"
   ]
  },
  {
   "cell_type": "markdown",
   "id": "047148d8-0cb5-415b-b7f9-d84054e689e7",
   "metadata": {},
   "source": [
    "Q1 = What is Python, and why is it popular ?\n",
    "\n",
    "\n",
    "ANS 1 = python is a language and in python have rule and code that will understable by computer ,and every set of rules and symbol\n",
    "define for computer so it will understand and gives us output.\n",
    "python is popular beacuse of certain reasons:-\n",
    "1. easy to learn campare to other programming languages.\n",
    "2. use in lots of domains like , for analysis, building pipe lines etc.\n",
    "3. syntax is very english.\n",
    "4. lots of libraries."
   ]
  },
  {
   "cell_type": "markdown",
   "id": "4fd48146-411b-493c-8705-5dd20682b823",
   "metadata": {},
   "source": [
    "Q2 = What is an interpreter in Python ?\n",
    "\n",
    "ANS 2 = interpreter means code runs line by line.\n",
    "- in this interpreter we can find error easily.\n",
    "- debugging is easy.\n",
    "- tell errors line by line."
   ]
  },
  {
   "cell_type": "markdown",
   "id": "8fee092e-7f3d-4b13-8286-bbd00825846b",
   "metadata": {},
   "source": [
    "Q3  = What are pre-defined keywords in Python ?\n",
    "\n",
    "ANS 3 = There are sevrals pre-defined keywords.\n",
    "- we can't use keywords as a variable.\n",
    "- All pre-defined keywords have different ueses. ex = AND,OR,NONE,CONTINUE they have all diff works."
   ]
  },
  {
   "cell_type": "markdown",
   "id": "5b86040b-e350-4372-bc63-9f94249c7af7",
   "metadata": {},
   "source": [
    "Q4 = Can keywords be used as variable names ?\n",
    "\n",
    "ANS = No, keywords can't be used as variable ,\n",
    "if use the keyword as variable like if we use print = \"hell\" , so next we say print (\"hello world\")\n",
    "it will show you a error . because it forget his role while we use keywords as a variable.\n"
   ]
  },
  {
   "cell_type": "markdown",
   "id": "a7fb01c1-fd40-415b-8124-281c759176c4",
   "metadata": {},
   "source": [
    "Q5 = What is mutability in Python ?\n",
    "\n",
    "ANS = Mutability in python means we can change the data type, \n",
    "if we have that are float value then can change his type into \"int\" so its called mutability in python."
   ]
  },
  {
   "cell_type": "markdown",
   "id": "031667a4-1a4a-402b-ad4b-82fe14314207",
   "metadata": {},
   "source": [
    "Q6 = Why are lists mutable, but tuples are immutable ?\n",
    "\n",
    "ANS = list are mutable because its usese are difference like in list we add code and run so after that we can change the data but,\n",
    "if we use tuples for same use that can't be done because tuples are uses for permenant data storing work and the nature of tuples are\n",
    "immutable so that's why ."
   ]
  },
  {
   "cell_type": "markdown",
   "id": "f25d04ac-c377-4dee-8115-64418adc45ba",
   "metadata": {},
   "source": [
    "Q 7 = What is the difference between “==” and “is” operators in Python ?\n",
    "\n",
    "ANS = \"==\" this will check if the two value are same likes a=1,b=1 a==b ,#output True . if values are not same then it will be false.\n",
    "- \"is\" in this he will check the address if the both variable and value address is same . this how they are diff from each othre."
   ]
  },
  {
   "cell_type": "markdown",
   "id": "292517f1-77a0-4b52-9902-47d9d5288aa4",
   "metadata": {},
   "source": [
    "Q 8 = What are logical operators in Python ?\n",
    "\n",
    "ANS = AND,OR,NOT. this all wrok differently.\n",
    "- \"AND\" = true and false = false . in this if one value is true and second is false then whole statement is false.\n",
    "- \"OR\" = true and false = true .in this if one value is True and sacond is false then it will true and false will when both is false.\n",
    "- \"NOT\" = in this if value is true then it will be false and if have false then it be True."
   ]
  },
  {
   "cell_type": "markdown",
   "id": "24a65f2b-1fd6-4f9c-b96f-69beb30883bd",
   "metadata": {},
   "source": [
    "Q 9 = What is type casting in Python ?\n",
    "\n",
    "ANS 9 = Type casting means when you convert the data type so its called type casting.\n",
    "example = if we take input from user so the type input is string so , when we convert into \"int\" ot \"float\" as per\n",
    "required condition."
   ]
  },
  {
   "cell_type": "markdown",
   "id": "eda35884-df56-4a10-b692-32097f44a34c",
   "metadata": {},
   "source": [
    "Q 10 = What is the difference between implicit and explicit type casting ?\n",
    "\n",
    "ANS =\"implicit type casting\" is suppose you write a code like \"a = 5 and then type (a) # output :- int\" in this you dont have to\n",
    "convert the value into data type . when python recognize the data type own his own so we called implicit type casting.\n",
    "\"explicit type casting\" is when we have to convert the data type so its called explicit type casting . ex = type(a) is flaot then we do this int(a)."
   ]
  },
  {
   "cell_type": "markdown",
   "id": "917ceb8b-8c59-472d-aa4c-2b6be597ccba",
   "metadata": {},
   "source": [
    "Q 11 =  What is the purpose of conditional statements in Python ?\n",
    "\n",
    "ANS 10 = conditional statment runs when we put conditions within them if this met to this if that met this so \n",
    "the specific condition will run the code according to condition. and why we need this ex = if i go to market to buy a \n",
    "fruit so my give condition if banana is not in the market then buy mango i will do thing that will matches the condition\n",
    "so like that if we give the condition to the computer so conditional statement helps to this situtation.\n",
    "\n",
    "\n"
   ]
  },
  {
   "cell_type": "markdown",
   "id": "dde3638a-6a65-491d-a80c-f94527b7b467",
   "metadata": {},
   "source": [
    " Q 12= How does the elif statement work ?\n",
    "\n",
    " ANS = elif work when we have multiple conditions we can use nested if and else but elif is more sutable for multiple condtions\n",
    " like if we have to create marks sheet so the score card need multiple conditions so this how this will work."
   ]
  },
  {
   "cell_type": "markdown",
   "id": "e004632f-880f-4807-8730-21dfbb15deb9",
   "metadata": {},
   "source": [
    "Q 13 = What is the difference between for and while loops ?\n",
    "\n",
    "ANS = \"for loop\" = we use for loop when we know how much loop it will do like we my conditions is match when 50 == 50 then he has to take \n",
    "50 loop so in the begging we know the ending so we use for loop .\n",
    "\"while loop:\" = in this while loop we just know the condition and the loop has to run until it matches his condition."
   ]
  },
  {
   "cell_type": "markdown",
   "id": "ba8d1bc1-3d72-469d-bc16-69d73fc7880c",
   "metadata": {},
   "source": [
    "Q 14 = Describe a scenario where a while loop is more suitable than a for loop?\n",
    "\n",
    "ANS = Like if we write a code where user will put a password and we don't know how much iteration it takes to put\n",
    "correct passwords so this the best example i guess and \"for\" loop is not going to work because we don't know how much time it will\n",
    "takes to unlock the passward and \" for loo[p\" used when we know how much loop it has to complete. and while will until the correct passward match."
   ]
  },
  {
   "cell_type": "markdown",
   "id": "1b55551d-2b0b-4805-92a9-3207881362e8",
   "metadata": {},
   "source": [
    "# Python Practical Question"
   ]
  },
  {
   "cell_type": "code",
   "execution_count": 17,
   "id": "65cb6ef3-2648-45a7-b759-f0edd8c4ede8",
   "metadata": {},
   "outputs": [
    {
     "name": "stdout",
     "output_type": "stream",
     "text": [
      "hello world\n"
     ]
    }
   ],
   "source": [
    "#Q 1 = Write a Python program to print \"Hello, World! ?\n",
    "print(\"hello world\")"
   ]
  },
  {
   "cell_type": "code",
   "execution_count": 18,
   "id": "beff4d76-3907-440b-b468-4f253a274ebc",
   "metadata": {},
   "outputs": [
    {
     "name": "stdin",
     "output_type": "stream",
     "text": [
      "my name is vikas\n",
      "my age is 21\n"
     ]
    },
    {
     "data": {
      "text/plain": [
       "'21'"
      ]
     },
     "execution_count": 18,
     "metadata": {},
     "output_type": "execute_result"
    }
   ],
   "source": [
    "#Q 2 = Write a Python program that displays your name and age ?\n",
    "input(\"my name is\")\n",
    "input(\"my age is\")"
   ]
  },
  {
   "cell_type": "code",
   "execution_count": 19,
   "id": "e1a0da9c-c9ec-45e3-b42c-146feaf91773",
   "metadata": {},
   "outputs": [
    {
     "name": "stdout",
     "output_type": "stream",
     "text": [
      "\n",
      "Here is a list of the Python keywords.  Enter any keyword to get more help.\n",
      "\n",
      "False               class               from                or\n",
      "None                continue            global              pass\n",
      "True                def                 if                  raise\n",
      "and                 del                 import              return\n",
      "as                  elif                in                  try\n",
      "assert              else                is                  while\n",
      "async               except              lambda              with\n",
      "await               finally             nonlocal            yield\n",
      "break               for                 not                 \n",
      "\n"
     ]
    }
   ],
   "source": [
    "# Q 3 = Write code to print all the pre-defined keywords in Python using the keyword library ?\n",
    "\n",
    "help(\"keywords\")"
   ]
  },
  {
   "cell_type": "code",
   "execution_count": 20,
   "id": "1d0b93cc-14af-496b-8b82-bc61d433932a",
   "metadata": {},
   "outputs": [
    {
     "name": "stdin",
     "output_type": "stream",
     "text": [
      "Enter a word to check if it's a Python keyword:  flaot\n"
     ]
    },
    {
     "name": "stdout",
     "output_type": "stream",
     "text": [
      "'flaot' is NOT a Python keyword.\n"
     ]
    }
   ],
   "source": [
    "# Q 4 = Write a program that checks if a given word is a Python keyword ?\n",
    "\n",
    "import keyword\n",
    "\n",
    "def is_python_keyword(word):\n",
    "    return keyword.iskeyword(word)\n",
    "\n",
    "user_input = input(\"Enter a word to check if it's a Python keyword: \")\n",
    "\n",
    "if is_python_keyword(user_input):\n",
    "    print(f\"'{user_input}' is a Python keyword.\")\n",
    "else:\n",
    "    print(f\"'{user_input}' is NOT a Python keyword.\")\n"
   ]
  },
  {
   "cell_type": "code",
   "execution_count": 27,
   "id": "aecc67bc-66cc-481c-8a8e-878f5b5f4a4e",
   "metadata": {},
   "outputs": [],
   "source": [
    "# Q 5 =  Create a list and tuple in Python, and demonstrate how attempting to change an element works differently for each.\n",
    "\n",
    "list = [23,3.43,\"vikas\",True,23]"
   ]
  },
  {
   "cell_type": "code",
   "execution_count": 29,
   "id": "1dae070e-fa8f-4c16-9a22-a4259ba4a3c9",
   "metadata": {},
   "outputs": [
    {
     "data": {
      "text/plain": [
       "'vikas'"
      ]
     },
     "execution_count": 29,
     "metadata": {},
     "output_type": "execute_result"
    }
   ],
   "source": [
    "list[2]"
   ]
  },
  {
   "cell_type": "code",
   "execution_count": 31,
   "id": "247f452d-4ecf-432d-806d-026e4c003a87",
   "metadata": {},
   "outputs": [],
   "source": [
    "list[2]=\"hell\"  # here we can change the sequence becasue its changable or mutable"
   ]
  },
  {
   "cell_type": "code",
   "execution_count": 33,
   "id": "617653cb-1e7c-49ca-bd61-f677f8053897",
   "metadata": {},
   "outputs": [
    {
     "data": {
      "text/plain": [
       "[23, 3.43, 'hell', True, 23]"
      ]
     },
     "execution_count": 33,
     "metadata": {},
     "output_type": "execute_result"
    }
   ],
   "source": [
    "list"
   ]
  },
  {
   "cell_type": "code",
   "execution_count": 35,
   "id": "9b379cf5-a846-494a-8563-c45e94e6aff8",
   "metadata": {},
   "outputs": [
    {
     "data": {
      "text/plain": [
       "(23, 3.43, 'vikas', True, 23)"
      ]
     },
     "execution_count": 35,
     "metadata": {},
     "output_type": "execute_result"
    }
   ],
   "source": [
    "tuple = (23,3.43,\"vikas\",True,23)\n",
    "tuple"
   ]
  },
  {
   "cell_type": "code",
   "execution_count": 26,
   "id": "369a7e76-867f-4886-861b-2e847a172e87",
   "metadata": {},
   "outputs": [
    {
     "ename": "TypeError",
     "evalue": "'tuple' object does not support item assignment",
     "output_type": "error",
     "traceback": [
      "\u001b[1;31m---------------------------------------------------------------------------\u001b[0m",
      "\u001b[1;31mTypeError\u001b[0m                                 Traceback (most recent call last)",
      "Cell \u001b[1;32mIn[26], line 2\u001b[0m\n\u001b[0;32m      1\u001b[0m \u001b[38;5;28mtuple\u001b[39m[\u001b[38;5;241m2\u001b[39m]\n\u001b[1;32m----> 2\u001b[0m \u001b[38;5;28mtuple\u001b[39m[\u001b[38;5;241m2\u001b[39m]\u001b[38;5;241m=\u001b[39m\u001b[38;5;124m\"\u001b[39m\u001b[38;5;124mhell\u001b[39m\u001b[38;5;124m\"\u001b[39m\n",
      "\u001b[1;31mTypeError\u001b[0m: 'tuple' object does not support item assignment"
     ]
    }
   ],
   "source": [
    "tuple[2]\n",
    "tuple[2]=\"hell\" # see the tuple says he don't support item assignment "
   ]
  },
  {
   "cell_type": "code",
   "execution_count": 37,
   "id": "3bcecc73-bf21-4c67-82ea-c6756dd36e7d",
   "metadata": {},
   "outputs": [
    {
     "name": "stdout",
     "output_type": "stream",
     "text": [
      "Before function call:\n",
      "x: 5\n",
      "y: [1, 2, 3]\n",
      "\n",
      "Inside function:\n",
      "Modified 'a' (int): 15\n",
      "Modified 'b' (list): [1, 2, 3, 4]\n",
      "\n",
      "After function call:\n",
      "x: 5\n",
      "y: [1, 2, 3, 4]\n"
     ]
    }
   ],
   "source": [
    "# Q 6 = Write a function to demonstrate the behavior of mutable and immutable arguments?\n",
    "def modify_arguments(a, b):\n",
    "    print(\"\\nInside function:\")\n",
    "    a += 10\n",
    "    print(\"Modified 'a' (int):\", a)\n",
    "    b.append(4)\n",
    "    print(\"Modified 'b' (list):\", b)\n",
    "\n",
    "x = 5\n",
    "y = [1, 2, 3]\n",
    "\n",
    "print(\"Before function call:\")\n",
    "print(\"x:\", x)\n",
    "print(\"y:\", y)\n",
    "\n",
    "\n",
    "modify_arguments(x, y)\n",
    "\n",
    "print(\"\\nAfter function call:\")\n",
    "print(\"x:\", x)  \n",
    "print(\"y:\", y)"
   ]
  },
  {
   "cell_type": "code",
   "execution_count": 39,
   "id": "be5c5a91-8dc8-4670-a638-143d4a0e48b6",
   "metadata": {},
   "outputs": [
    {
     "name": "stdin",
     "output_type": "stream",
     "text": [
      "give any number 124\n",
      "give another numbr 12\n"
     ]
    },
    {
     "name": "stdout",
     "output_type": "stream",
     "text": [
      "136 112 1488 10.333333333333334"
     ]
    }
   ],
   "source": [
    "#Q 7 = Write a program that performs basic arithmetic operations on two user-input numbers?\n",
    "\n",
    "a = int(input(\"give any number\"))\n",
    "b = int(input(\"give another numbr\"))\n",
    "print((a+b),(a-b),(a*b),(a/b),end = \"\",)"
   ]
  },
  {
   "cell_type": "code",
   "execution_count": 96,
   "id": "702fa8e9-cb15-4a48-a4fd-c177e9b27ab8",
   "metadata": {},
   "outputs": [
    {
     "name": "stdout",
     "output_type": "stream",
     "text": [
      "False True True\n"
     ]
    }
   ],
   "source": [
    "#Q 8 = Write a program to demonstrate the use of logical operators.\n",
    "x = 44\n",
    "y = 54\n",
    "ITS_AND = (  x > 45 and y < 45 )\n",
    "ITS_OR = ( x >34 or y > 34 )\n",
    "ITS_NOT = not( x > 45 or y < 45  )\n",
    "print(ITS_AND , ITS_OR , ITS_NOT )"
   ]
  },
  {
   "cell_type": "code",
   "execution_count": 116,
   "id": "6d4e6561-a773-48cc-ba05-ae81ddbebe33",
   "metadata": {},
   "outputs": [
    {
     "name": "stdin",
     "output_type": "stream",
     "text": [
      "give me random number 10\n"
     ]
    },
    {
     "data": {
      "text/plain": [
       "int"
      ]
     },
     "execution_count": 116,
     "metadata": {},
     "output_type": "execute_result"
    }
   ],
   "source": [
    "#Q 9 = Write a Python program to convert user input from string to integer, float, and boolean types.\n",
    "a = int(input(\"give me random number\"))\n",
    "type(a)"
   ]
  },
  {
   "cell_type": "code",
   "execution_count": 122,
   "id": "ceec30cb-fb84-4c8e-ad89-375a5cf09dec",
   "metadata": {},
   "outputs": [
    {
     "name": "stdin",
     "output_type": "stream",
     "text": [
      "give me random number 9\n"
     ]
    },
    {
     "name": "stdout",
     "output_type": "stream",
     "text": [
      "9.0\n"
     ]
    }
   ],
   "source": [
    "a = float(input(\"give me random number\"))\n",
    "type(a)\n",
    "print(a)"
   ]
  },
  {
   "cell_type": "code",
   "execution_count": 126,
   "id": "ff538f31-39a4-4247-adfc-2cfcef37d30d",
   "metadata": {},
   "outputs": [
    {
     "name": "stdin",
     "output_type": "stream",
     "text": [
      "give me random number 10\n"
     ]
    },
    {
     "data": {
      "text/plain": [
       "bool"
      ]
     },
     "execution_count": 126,
     "metadata": {},
     "output_type": "execute_result"
    }
   ],
   "source": [
    "a = bool(input(\"give me random number\"))\n",
    "type(a)"
   ]
  },
  {
   "cell_type": "code",
   "execution_count": 134,
   "id": "70833731-80df-488a-988d-b91f653eba93",
   "metadata": {},
   "outputs": [
    {
     "data": {
      "text/plain": [
       "[23, 3.43, 'vikas', True, 'kar diya ha type castig wo bhi list mai']"
      ]
     },
     "execution_count": 134,
     "metadata": {},
     "output_type": "execute_result"
    }
   ],
   "source": [
    "#Q 10 = Write code to demonstrate type casting with list elements.\n",
    "its_list = [23,3.43,\"vikas\",True,23]\n",
    "its_list[4]\n",
    "its_list[4]=\"kar diya ha type castig wo bhi list mai\"\n",
    "its_list"
   ]
  },
  {
   "cell_type": "code",
   "execution_count": 140,
   "id": "ff69bb66-c4f5-4d24-b272-380856811d0a",
   "metadata": {},
   "outputs": [
    {
     "name": "stdout",
     "output_type": "stream",
     "text": [
      "number is zero\n"
     ]
    }
   ],
   "source": [
    "# Q 11 = Write a program that checks if a number is positive, negative, or zero .\n",
    "x = 0\n",
    "if x > 0:\n",
    "    print(\"number is positive\")\n",
    "elif x < 0:\n",
    "    print(\" number is negative\")\n",
    "else:\n",
    "    print(\"number is zero\")"
   ]
  },
  {
   "cell_type": "code",
   "execution_count": 164,
   "id": "bd6d8912-5fe6-4ad6-a4c1-994bd2e3dc34",
   "metadata": {},
   "outputs": [
    {
     "name": "stdout",
     "output_type": "stream",
     "text": [
      "1\n",
      "2\n",
      "3\n",
      "4\n",
      "5\n",
      "6\n",
      "7\n",
      "8\n",
      "9\n",
      "10\n"
     ]
    }
   ],
   "source": [
    "#Q 12 = Write a for loop to print numbers from 1 to 10.\n",
    "x = 0\n",
    "while x < 10:\n",
    "    x = 1+x\n",
    "    print(x)\n"
   ]
  },
  {
   "cell_type": "code",
   "execution_count": 175,
   "id": "429a131f-b6ba-48e1-93b6-e8d3949cebc8",
   "metadata": {},
   "outputs": [
    {
     "name": "stdout",
     "output_type": "stream",
     "text": [
      "sum of even no. 650\n"
     ]
    }
   ],
   "source": [
    "# Q 13 =  Write a Python program to find the sum of all even numbers between 1 and 50.\n",
    "total = 0\n",
    "number = 1\n",
    "while number <= 50:\n",
    "    if number %2 == 0:\n",
    "        total += number\n",
    "    number += 1\n",
    "print(\"sum of even no.\",total)"
   ]
  },
  {
   "cell_type": "code",
   "execution_count": 181,
   "id": "d4241f21-0c6b-4b4b-aa96-afe0b0f561c2",
   "metadata": {},
   "outputs": [
    {
     "name": "stdout",
     "output_type": "stream",
     "text": [
      "Reversed string is: sakiv\n"
     ]
    }
   ],
   "source": [
    "# Q 14 =  Write a program to reverse a string using a while loop.\n",
    "\n",
    "a = \"vikas\"\n",
    "rev_text = \"\"\n",
    "index = -1\n",
    "while -index <= len(a):\n",
    "    rev_text+=a[index]\n",
    "    index -= 1\n",
    "print(\"Reversed string is:\",rev_text)"
   ]
  },
  {
   "cell_type": "code",
   "execution_count": 187,
   "id": "1f94ec8c-7154-4433-8180-ac2551f74cc5",
   "metadata": {},
   "outputs": [
    {
     "name": "stdin",
     "output_type": "stream",
     "text": [
      "Enter a number to find its factorial:  2\n"
     ]
    },
    {
     "name": "stdout",
     "output_type": "stream",
     "text": [
      "Factorial of 2 is: 2\n"
     ]
    }
   ],
   "source": [
    " # Q 15 = Write a Python program to calculate the factorial of a number provided by the user using a while loop.\n",
    "\n",
    "num = int(input(\"Enter a number to find its factorial: \"))\n",
    "\n",
    "factorial = 1\n",
    "i = 1\n",
    "\n",
    "if num < 0:\n",
    "    print(\"Factorial does not exist for negative numbers.\")\n",
    "else:\n",
    "    while i <= num:\n",
    "        factorial *= i\n",
    "        i += 1\n",
    "    print(\"Factorial of\", num, \"is:\", factorial)\n"
   ]
  },
  {
   "cell_type": "code",
   "execution_count": null,
   "id": "5aa4f48c-d22a-45b4-965a-f02708ed5beb",
   "metadata": {},
   "outputs": [],
   "source": []
  }
 ],
 "metadata": {
  "kernelspec": {
   "display_name": "Python [conda env:base] *",
   "language": "python",
   "name": "conda-base-py"
  },
  "language_info": {
   "codemirror_mode": {
    "name": "ipython",
    "version": 3
   },
   "file_extension": ".py",
   "mimetype": "text/x-python",
   "name": "python",
   "nbconvert_exporter": "python",
   "pygments_lexer": "ipython3",
   "version": "3.12.7"
  }
 },
 "nbformat": 4,
 "nbformat_minor": 5
}
